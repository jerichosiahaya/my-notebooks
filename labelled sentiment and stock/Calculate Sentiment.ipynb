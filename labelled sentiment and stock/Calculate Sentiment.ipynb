{
 "cells": [
  {
   "cell_type": "code",
   "execution_count": 1,
   "metadata": {},
   "outputs": [],
   "source": [
    "import pandas as pd\n",
    "import matplotlib.pyplot as plt\n",
    "from matplotlib.patches import Patch\n",
    "from matplotlib.lines import Line2D\n",
    "from sklearn.preprocessing import StandardScaler"
   ]
  },
  {
   "cell_type": "code",
   "execution_count": 2,
   "metadata": {},
   "outputs": [
    {
     "data": {
      "text/html": [
       "<div>\n",
       "<style scoped>\n",
       "    .dataframe tbody tr th:only-of-type {\n",
       "        vertical-align: middle;\n",
       "    }\n",
       "\n",
       "    .dataframe tbody tr th {\n",
       "        vertical-align: top;\n",
       "    }\n",
       "\n",
       "    .dataframe thead th {\n",
       "        text-align: right;\n",
       "    }\n",
       "</style>\n",
       "<table border=\"1\" class=\"dataframe\">\n",
       "  <thead>\n",
       "    <tr style=\"text-align: right;\">\n",
       "      <th></th>\n",
       "      <th>day</th>\n",
       "      <th>sentiment</th>\n",
       "      <th>close</th>\n",
       "    </tr>\n",
       "  </thead>\n",
       "  <tbody>\n",
       "    <tr>\n",
       "      <th>0</th>\n",
       "      <td>one</td>\n",
       "      <td>15</td>\n",
       "      <td>2000</td>\n",
       "    </tr>\n",
       "    <tr>\n",
       "      <th>1</th>\n",
       "      <td>two</td>\n",
       "      <td>20</td>\n",
       "      <td>6500</td>\n",
       "    </tr>\n",
       "    <tr>\n",
       "      <th>2</th>\n",
       "      <td>three</td>\n",
       "      <td>35</td>\n",
       "      <td>5400</td>\n",
       "    </tr>\n",
       "    <tr>\n",
       "      <th>3</th>\n",
       "      <td>four</td>\n",
       "      <td>45</td>\n",
       "      <td>4543</td>\n",
       "    </tr>\n",
       "    <tr>\n",
       "      <th>4</th>\n",
       "      <td>five</td>\n",
       "      <td>-90</td>\n",
       "      <td>1000</td>\n",
       "    </tr>\n",
       "    <tr>\n",
       "      <th>5</th>\n",
       "      <td>six</td>\n",
       "      <td>-66</td>\n",
       "      <td>6040</td>\n",
       "    </tr>\n",
       "    <tr>\n",
       "      <th>6</th>\n",
       "      <td>seven</td>\n",
       "      <td>-17</td>\n",
       "      <td>2300</td>\n",
       "    </tr>\n",
       "  </tbody>\n",
       "</table>\n",
       "</div>"
      ],
      "text/plain": [
       "     day  sentiment  close\n",
       "0    one         15   2000\n",
       "1    two         20   6500\n",
       "2  three         35   5400\n",
       "3   four         45   4543\n",
       "4   five        -90   1000\n",
       "5    six        -66   6040\n",
       "6  seven        -17   2300"
      ]
     },
     "execution_count": 2,
     "metadata": {},
     "output_type": "execute_result"
    }
   ],
   "source": [
    "tweet = pd.DataFrame({'day': ['one', 'two', 'three', 'four', 'five', 'six', 'seven'], 'sentiment': [15, 20, 35, 45, -90, -66, -17]})\n",
    "stock = pd.DataFrame({'day': ['one', 'two', 'three', 'four', 'five', 'six', 'seven'], 'close': [2000, 6500, 5400, 4543, 1000, 6040, 2300]})\n",
    "df = pd.merge(tweet, stock, how='outer')\n",
    "df"
   ]
  },
  {
   "cell_type": "code",
   "execution_count": 3,
   "metadata": {},
   "outputs": [
    {
     "name": "stdout",
     "output_type": "stream",
     "text": [
      "StandardScaler()\n",
      "[[ 0.48494726 -0.97497571]\n",
      " [ 0.58907704  1.25325724]\n",
      " [ 0.90146637  0.70857808]\n",
      " [ 1.10972593  0.28422349]\n",
      " [-1.7017781  -1.47013858]\n",
      " [-1.20195516  1.02548232]\n",
      " [-0.18148333 -0.82642684]]\n",
      "<class 'numpy.ndarray'>\n"
     ]
    }
   ],
   "source": [
    "scaler = StandardScaler()\n",
    "data = df.drop(columns='day')\n",
    "print(scaler.fit(data))\n",
    "dataClean = scaler.transform(data)\n",
    "print(dataClean)\n",
    "print(type(dataClean))"
   ]
  },
  {
   "cell_type": "code",
   "execution_count": 5,
   "metadata": {},
   "outputs": [
    {
     "data": {
      "text/html": [
       "<div>\n",
       "<style scoped>\n",
       "    .dataframe tbody tr th:only-of-type {\n",
       "        vertical-align: middle;\n",
       "    }\n",
       "\n",
       "    .dataframe tbody tr th {\n",
       "        vertical-align: top;\n",
       "    }\n",
       "\n",
       "    .dataframe thead th {\n",
       "        text-align: right;\n",
       "    }\n",
       "</style>\n",
       "<table border=\"1\" class=\"dataframe\">\n",
       "  <thead>\n",
       "    <tr style=\"text-align: right;\">\n",
       "      <th></th>\n",
       "      <th>day</th>\n",
       "      <th>sentiment</th>\n",
       "      <th>positive</th>\n",
       "      <th>close</th>\n",
       "    </tr>\n",
       "  </thead>\n",
       "  <tbody>\n",
       "    <tr>\n",
       "      <th>0</th>\n",
       "      <td>one</td>\n",
       "      <td>0.484947</td>\n",
       "      <td>True</td>\n",
       "      <td>-0.974976</td>\n",
       "    </tr>\n",
       "    <tr>\n",
       "      <th>1</th>\n",
       "      <td>two</td>\n",
       "      <td>0.589077</td>\n",
       "      <td>True</td>\n",
       "      <td>1.253257</td>\n",
       "    </tr>\n",
       "    <tr>\n",
       "      <th>2</th>\n",
       "      <td>three</td>\n",
       "      <td>0.901466</td>\n",
       "      <td>True</td>\n",
       "      <td>0.708578</td>\n",
       "    </tr>\n",
       "    <tr>\n",
       "      <th>3</th>\n",
       "      <td>four</td>\n",
       "      <td>1.109726</td>\n",
       "      <td>True</td>\n",
       "      <td>0.284223</td>\n",
       "    </tr>\n",
       "    <tr>\n",
       "      <th>4</th>\n",
       "      <td>five</td>\n",
       "      <td>-1.701778</td>\n",
       "      <td>False</td>\n",
       "      <td>-1.470139</td>\n",
       "    </tr>\n",
       "    <tr>\n",
       "      <th>5</th>\n",
       "      <td>six</td>\n",
       "      <td>-1.201955</td>\n",
       "      <td>False</td>\n",
       "      <td>1.025482</td>\n",
       "    </tr>\n",
       "    <tr>\n",
       "      <th>6</th>\n",
       "      <td>seven</td>\n",
       "      <td>-0.181483</td>\n",
       "      <td>False</td>\n",
       "      <td>-0.826427</td>\n",
       "    </tr>\n",
       "  </tbody>\n",
       "</table>\n",
       "</div>"
      ],
      "text/plain": [
       "     day  sentiment  positive     close\n",
       "0    one   0.484947      True -0.974976\n",
       "1    two   0.589077      True  1.253257\n",
       "2  three   0.901466      True  0.708578\n",
       "3   four   1.109726      True  0.284223\n",
       "4   five  -1.701778     False -1.470139\n",
       "5    six  -1.201955     False  1.025482\n",
       "6  seven  -0.181483     False -0.826427"
      ]
     },
     "execution_count": 5,
     "metadata": {},
     "output_type": "execute_result"
    }
   ],
   "source": [
    "scaled_df = pd.DataFrame(dataClean, index=df.index, columns=['sentiment','close'])\n",
    "scaled_df['positive'] = scaled_df['sentiment'] > -0\n",
    "scaled_df['day'] = df.day\n",
    "\n",
    "columns_reorder = ['day', 'sentiment', 'positive', 'close']\n",
    "scaled_df = scaled_df.reindex(columns=columns_reorder)\n",
    "scaled_df"
   ]
  },
  {
   "cell_type": "code",
   "execution_count": 6,
   "metadata": {},
   "outputs": [
    {
     "name": "stderr",
     "output_type": "stream",
     "text": [
      "C:\\Users\\laptop\\anaconda3\\lib\\site-packages\\pandas\\plotting\\_matplotlib\\core.py:1192: UserWarning: FixedFormatter should only be used together with FixedLocator\n",
      "  ax.set_xticklabels(xticklabels)\n"
     ]
    },
    {
     "data": {
      "image/png": "[encoded data removed]",
      "text/plain": [
       "<Figure size 432x288 with 1 Axes>"
      ]
     },
     "metadata": {
      "needs_background": "light"
     },
     "output_type": "display_data"
    }
   ],
   "source": [
    "legend_elements = [Line2D([0], [0], color='black', lw=2, label='stock'), \n",
    "                   Patch(color='yellow', label='positive sentiment'), \n",
    "                   Patch(color='red', label='negative sentiment')]\n",
    "\n",
    "ax = scaled_df[['day', 'close']].plot(x='day', kind='line', color='black', legend=False)\n",
    "scaled_df[['day', 'sentiment']].plot(x='day', kind='bar', ax=ax, legend= False, color=[scaled_df.positive.map({True: 'yellow', False: 'red'})])\n",
    "plt.legend(handles=legend_elements, bbox_to_anchor=(1.05, 1))\n",
    "plt.title('Sentiment VS Stock')\n",
    "plt.show()"
   ]
  },
  {
   "cell_type": "code",
   "execution_count": null,
   "metadata": {},
   "outputs": [],
   "source": []
  }
 ],
 "metadata": {
  "kernelspec": {
   "display_name": "Python 3",
   "language": "python",
   "name": "python3"
  },
  "language_info": {
   "codemirror_mode": {
    "name": "ipython",
    "version": 3
   },
   "file_extension": ".py",
   "mimetype": "text/x-python",
   "name": "python",
   "nbconvert_exporter": "python",
   "pygments_lexer": "ipython3",
   "version": "3.7.6"
  }
 },
 "nbformat": 4,
 "nbformat_minor": 4
}
